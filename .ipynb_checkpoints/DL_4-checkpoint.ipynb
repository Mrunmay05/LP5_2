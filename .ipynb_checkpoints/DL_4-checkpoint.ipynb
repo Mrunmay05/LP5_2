{
  "nbformat": 4,
  "nbformat_minor": 0,
  "metadata": {
    "colab": {
      "provenance": []
    },
    "kernelspec": {
      "name": "python3",
      "display_name": "Python 3"
    },
    "language_info": {
      "name": "python"
    }
  },
  "cells": [
    {
      "cell_type": "code",
      "execution_count": 69,
      "metadata": {
        "id": "UYi_eCNdRtqC"
      },
      "outputs": [],
      "source": [
        "import numpy as np\n",
        "import matplotlib.pyplot as plt\n",
        "import pandas as pd\n",
        "\n"
      ]
    },
    {
      "cell_type": "code",
      "source": [
        "dataset_train = pd.read_csv('Google_Stock_Price_Train.csv')"
      ],
      "metadata": {
        "id": "cJEXe_2SU_AC"
      },
      "execution_count": 70,
      "outputs": []
    },
    {
      "cell_type": "code",
      "source": [
        "dataset_train.head()"
      ],
      "metadata": {
        "colab": {
          "base_uri": "https://localhost:8080/",
          "height": 206
        },
        "id": "ztEWy5rsVEdN",
        "outputId": "32747489-f47b-41c5-a8ac-abd5c307f138"
      },
      "execution_count": 71,
      "outputs": [
        {
          "output_type": "execute_result",
          "data": {
            "text/plain": [
              "         Date    Open    High     Low   Close      Volume\n",
              "0  01/03/2012  325.25  332.83  324.97  663.59   7,380,500\n",
              "1  01/04/2012  331.27  333.87  329.08  666.45   5,749,400\n",
              "2  01/05/2012  329.83  330.75  326.89  657.21   6,590,300\n",
              "3  01/06/2012  328.34  328.77  323.68  648.24   5,405,900\n",
              "4  01/09/2012  322.04  322.29  309.46  620.76  11,688,800"
            ],
            "text/html": [
              "\n",
              "  <div id=\"df-863a1c5e-6db5-48df-bc66-50de28781166\" class=\"colab-df-container\">\n",
              "    <div>\n",
              "<style scoped>\n",
              "    .dataframe tbody tr th:only-of-type {\n",
              "        vertical-align: middle;\n",
              "    }\n",
              "\n",
              "    .dataframe tbody tr th {\n",
              "        vertical-align: top;\n",
              "    }\n",
              "\n",
              "    .dataframe thead th {\n",
              "        text-align: right;\n",
              "    }\n",
              "</style>\n",
              "<table border=\"1\" class=\"dataframe\">\n",
              "  <thead>\n",
              "    <tr style=\"text-align: right;\">\n",
              "      <th></th>\n",
              "      <th>Date</th>\n",
              "      <th>Open</th>\n",
              "      <th>High</th>\n",
              "      <th>Low</th>\n",
              "      <th>Close</th>\n",
              "      <th>Volume</th>\n",
              "    </tr>\n",
              "  </thead>\n",
              "  <tbody>\n",
              "    <tr>\n",
              "      <th>0</th>\n",
              "      <td>01/03/2012</td>\n",
              "      <td>325.25</td>\n",
              "      <td>332.83</td>\n",
              "      <td>324.97</td>\n",
              "      <td>663.59</td>\n",
              "      <td>7,380,500</td>\n",
              "    </tr>\n",
              "    <tr>\n",
              "      <th>1</th>\n",
              "      <td>01/04/2012</td>\n",
              "      <td>331.27</td>\n",
              "      <td>333.87</td>\n",
              "      <td>329.08</td>\n",
              "      <td>666.45</td>\n",
              "      <td>5,749,400</td>\n",
              "    </tr>\n",
              "    <tr>\n",
              "      <th>2</th>\n",
              "      <td>01/05/2012</td>\n",
              "      <td>329.83</td>\n",
              "      <td>330.75</td>\n",
              "      <td>326.89</td>\n",
              "      <td>657.21</td>\n",
              "      <td>6,590,300</td>\n",
              "    </tr>\n",
              "    <tr>\n",
              "      <th>3</th>\n",
              "      <td>01/06/2012</td>\n",
              "      <td>328.34</td>\n",
              "      <td>328.77</td>\n",
              "      <td>323.68</td>\n",
              "      <td>648.24</td>\n",
              "      <td>5,405,900</td>\n",
              "    </tr>\n",
              "    <tr>\n",
              "      <th>4</th>\n",
              "      <td>01/09/2012</td>\n",
              "      <td>322.04</td>\n",
              "      <td>322.29</td>\n",
              "      <td>309.46</td>\n",
              "      <td>620.76</td>\n",
              "      <td>11,688,800</td>\n",
              "    </tr>\n",
              "  </tbody>\n",
              "</table>\n",
              "</div>\n",
              "    <div class=\"colab-df-buttons\">\n",
              "\n",
              "  <div class=\"colab-df-container\">\n",
              "    <button class=\"colab-df-convert\" onclick=\"convertToInteractive('df-863a1c5e-6db5-48df-bc66-50de28781166')\"\n",
              "            title=\"Convert this dataframe to an interactive table.\"\n",
              "            style=\"display:none;\">\n",
              "\n",
              "  <svg xmlns=\"http://www.w3.org/2000/svg\" height=\"24px\" viewBox=\"0 -960 960 960\">\n",
              "    <path d=\"M120-120v-720h720v720H120Zm60-500h600v-160H180v160Zm220 220h160v-160H400v160Zm0 220h160v-160H400v160ZM180-400h160v-160H180v160Zm440 0h160v-160H620v160ZM180-180h160v-160H180v160Zm440 0h160v-160H620v160Z\"/>\n",
              "  </svg>\n",
              "    </button>\n",
              "\n",
              "  <style>\n",
              "    .colab-df-container {\n",
              "      display:flex;\n",
              "      gap: 12px;\n",
              "    }\n",
              "\n",
              "    .colab-df-convert {\n",
              "      background-color: #E8F0FE;\n",
              "      border: none;\n",
              "      border-radius: 50%;\n",
              "      cursor: pointer;\n",
              "      display: none;\n",
              "      fill: #1967D2;\n",
              "      height: 32px;\n",
              "      padding: 0 0 0 0;\n",
              "      width: 32px;\n",
              "    }\n",
              "\n",
              "    .colab-df-convert:hover {\n",
              "      background-color: #E2EBFA;\n",
              "      box-shadow: 0px 1px 2px rgba(60, 64, 67, 0.3), 0px 1px 3px 1px rgba(60, 64, 67, 0.15);\n",
              "      fill: #174EA6;\n",
              "    }\n",
              "\n",
              "    .colab-df-buttons div {\n",
              "      margin-bottom: 4px;\n",
              "    }\n",
              "\n",
              "    [theme=dark] .colab-df-convert {\n",
              "      background-color: #3B4455;\n",
              "      fill: #D2E3FC;\n",
              "    }\n",
              "\n",
              "    [theme=dark] .colab-df-convert:hover {\n",
              "      background-color: #434B5C;\n",
              "      box-shadow: 0px 1px 3px 1px rgba(0, 0, 0, 0.15);\n",
              "      filter: drop-shadow(0px 1px 2px rgba(0, 0, 0, 0.3));\n",
              "      fill: #FFFFFF;\n",
              "    }\n",
              "  </style>\n",
              "\n",
              "    <script>\n",
              "      const buttonEl =\n",
              "        document.querySelector('#df-863a1c5e-6db5-48df-bc66-50de28781166 button.colab-df-convert');\n",
              "      buttonEl.style.display =\n",
              "        google.colab.kernel.accessAllowed ? 'block' : 'none';\n",
              "\n",
              "      async function convertToInteractive(key) {\n",
              "        const element = document.querySelector('#df-863a1c5e-6db5-48df-bc66-50de28781166');\n",
              "        const dataTable =\n",
              "          await google.colab.kernel.invokeFunction('convertToInteractive',\n",
              "                                                    [key], {});\n",
              "        if (!dataTable) return;\n",
              "\n",
              "        const docLinkHtml = 'Like what you see? Visit the ' +\n",
              "          '<a target=\"_blank\" href=https://colab.research.google.com/notebooks/data_table.ipynb>data table notebook</a>'\n",
              "          + ' to learn more about interactive tables.';\n",
              "        element.innerHTML = '';\n",
              "        dataTable['output_type'] = 'display_data';\n",
              "        await google.colab.output.renderOutput(dataTable, element);\n",
              "        const docLink = document.createElement('div');\n",
              "        docLink.innerHTML = docLinkHtml;\n",
              "        element.appendChild(docLink);\n",
              "      }\n",
              "    </script>\n",
              "  </div>\n",
              "\n",
              "\n",
              "<div id=\"df-87a10623-74f1-4757-890a-532848f9d5e0\">\n",
              "  <button class=\"colab-df-quickchart\" onclick=\"quickchart('df-87a10623-74f1-4757-890a-532848f9d5e0')\"\n",
              "            title=\"Suggest charts\"\n",
              "            style=\"display:none;\">\n",
              "\n",
              "<svg xmlns=\"http://www.w3.org/2000/svg\" height=\"24px\"viewBox=\"0 0 24 24\"\n",
              "     width=\"24px\">\n",
              "    <g>\n",
              "        <path d=\"M19 3H5c-1.1 0-2 .9-2 2v14c0 1.1.9 2 2 2h14c1.1 0 2-.9 2-2V5c0-1.1-.9-2-2-2zM9 17H7v-7h2v7zm4 0h-2V7h2v10zm4 0h-2v-4h2v4z\"/>\n",
              "    </g>\n",
              "</svg>\n",
              "  </button>\n",
              "\n",
              "<style>\n",
              "  .colab-df-quickchart {\n",
              "      --bg-color: #E8F0FE;\n",
              "      --fill-color: #1967D2;\n",
              "      --hover-bg-color: #E2EBFA;\n",
              "      --hover-fill-color: #174EA6;\n",
              "      --disabled-fill-color: #AAA;\n",
              "      --disabled-bg-color: #DDD;\n",
              "  }\n",
              "\n",
              "  [theme=dark] .colab-df-quickchart {\n",
              "      --bg-color: #3B4455;\n",
              "      --fill-color: #D2E3FC;\n",
              "      --hover-bg-color: #434B5C;\n",
              "      --hover-fill-color: #FFFFFF;\n",
              "      --disabled-bg-color: #3B4455;\n",
              "      --disabled-fill-color: #666;\n",
              "  }\n",
              "\n",
              "  .colab-df-quickchart {\n",
              "    background-color: var(--bg-color);\n",
              "    border: none;\n",
              "    border-radius: 50%;\n",
              "    cursor: pointer;\n",
              "    display: none;\n",
              "    fill: var(--fill-color);\n",
              "    height: 32px;\n",
              "    padding: 0;\n",
              "    width: 32px;\n",
              "  }\n",
              "\n",
              "  .colab-df-quickchart:hover {\n",
              "    background-color: var(--hover-bg-color);\n",
              "    box-shadow: 0 1px 2px rgba(60, 64, 67, 0.3), 0 1px 3px 1px rgba(60, 64, 67, 0.15);\n",
              "    fill: var(--button-hover-fill-color);\n",
              "  }\n",
              "\n",
              "  .colab-df-quickchart-complete:disabled,\n",
              "  .colab-df-quickchart-complete:disabled:hover {\n",
              "    background-color: var(--disabled-bg-color);\n",
              "    fill: var(--disabled-fill-color);\n",
              "    box-shadow: none;\n",
              "  }\n",
              "\n",
              "  .colab-df-spinner {\n",
              "    border: 2px solid var(--fill-color);\n",
              "    border-color: transparent;\n",
              "    border-bottom-color: var(--fill-color);\n",
              "    animation:\n",
              "      spin 1s steps(1) infinite;\n",
              "  }\n",
              "\n",
              "  @keyframes spin {\n",
              "    0% {\n",
              "      border-color: transparent;\n",
              "      border-bottom-color: var(--fill-color);\n",
              "      border-left-color: var(--fill-color);\n",
              "    }\n",
              "    20% {\n",
              "      border-color: transparent;\n",
              "      border-left-color: var(--fill-color);\n",
              "      border-top-color: var(--fill-color);\n",
              "    }\n",
              "    30% {\n",
              "      border-color: transparent;\n",
              "      border-left-color: var(--fill-color);\n",
              "      border-top-color: var(--fill-color);\n",
              "      border-right-color: var(--fill-color);\n",
              "    }\n",
              "    40% {\n",
              "      border-color: transparent;\n",
              "      border-right-color: var(--fill-color);\n",
              "      border-top-color: var(--fill-color);\n",
              "    }\n",
              "    60% {\n",
              "      border-color: transparent;\n",
              "      border-right-color: var(--fill-color);\n",
              "    }\n",
              "    80% {\n",
              "      border-color: transparent;\n",
              "      border-right-color: var(--fill-color);\n",
              "      border-bottom-color: var(--fill-color);\n",
              "    }\n",
              "    90% {\n",
              "      border-color: transparent;\n",
              "      border-bottom-color: var(--fill-color);\n",
              "    }\n",
              "  }\n",
              "</style>\n",
              "\n",
              "  <script>\n",
              "    async function quickchart(key) {\n",
              "      const quickchartButtonEl =\n",
              "        document.querySelector('#' + key + ' button');\n",
              "      quickchartButtonEl.disabled = true;  // To prevent multiple clicks.\n",
              "      quickchartButtonEl.classList.add('colab-df-spinner');\n",
              "      try {\n",
              "        const charts = await google.colab.kernel.invokeFunction(\n",
              "            'suggestCharts', [key], {});\n",
              "      } catch (error) {\n",
              "        console.error('Error during call to suggestCharts:', error);\n",
              "      }\n",
              "      quickchartButtonEl.classList.remove('colab-df-spinner');\n",
              "      quickchartButtonEl.classList.add('colab-df-quickchart-complete');\n",
              "    }\n",
              "    (() => {\n",
              "      let quickchartButtonEl =\n",
              "        document.querySelector('#df-87a10623-74f1-4757-890a-532848f9d5e0 button');\n",
              "      quickchartButtonEl.style.display =\n",
              "        google.colab.kernel.accessAllowed ? 'block' : 'none';\n",
              "    })();\n",
              "  </script>\n",
              "</div>\n",
              "\n",
              "    </div>\n",
              "  </div>\n"
            ],
            "application/vnd.google.colaboratory.intrinsic+json": {
              "type": "dataframe",
              "variable_name": "dataset_train",
              "summary": "{\n  \"name\": \"dataset_train\",\n  \"rows\": 1509,\n  \"fields\": [\n    {\n      \"column\": \"Date\",\n      \"properties\": {\n        \"dtype\": \"string\",\n        \"num_unique_values\": 1509,\n        \"samples\": [\n          \"4/23/2014\",\n          \"7/25/2016\",\n          \"07/12/2013\"\n        ],\n        \"semantic_type\": \"\",\n        \"description\": \"\"\n      }\n    },\n    {\n      \"column\": \"Open\",\n      \"properties\": {\n        \"dtype\": \"number\",\n        \"std\": 202.6072335725472,\n        \"min\": 279.12,\n        \"max\": 1075.199951,\n        \"num_unique_values\": 1459,\n        \"samples\": [\n          980.0,\n          537.21,\n          442.05\n        ],\n        \"semantic_type\": \"\",\n        \"description\": \"\"\n      }\n    },\n    {\n      \"column\": \"High\",\n      \"properties\": {\n        \"dtype\": \"number\",\n        \"std\": 203.7931579825553,\n        \"min\": 281.21,\n        \"max\": 1078.48999,\n        \"num_unique_values\": 1468,\n        \"samples\": [\n          776.96,\n          378.23,\n          791.340027\n        ],\n        \"semantic_type\": \"\",\n        \"description\": \"\"\n      }\n    },\n    {\n      \"column\": \"Low\",\n      \"properties\": {\n        \"dtype\": \"number\",\n        \"std\": 201.41862459116132,\n        \"min\": 277.22,\n        \"max\": 1063.550049,\n        \"num_unique_values\": 1470,\n        \"samples\": [\n          735.56,\n          381.08,\n          770.41\n        ],\n        \"semantic_type\": \"\",\n        \"description\": \"\"\n      }\n    },\n    {\n      \"column\": \"Close\",\n      \"properties\": {\n        \"dtype\": \"string\",\n        \"num_unique_values\": 1489,\n        \"samples\": [\n          \"646.67\",\n          \"823.05\",\n          \"756.94\"\n        ],\n        \"semantic_type\": \"\",\n        \"description\": \"\"\n      }\n    },\n    {\n      \"column\": \"Volume\",\n      \"properties\": {\n        \"dtype\": \"string\",\n        \"num_unique_values\": 1487,\n        \"samples\": [\n          \"1672000\",\n          \"885800\",\n          \"2,726,100\"\n        ],\n        \"semantic_type\": \"\",\n        \"description\": \"\"\n      }\n    }\n  ]\n}"
            }
          },
          "metadata": {},
          "execution_count": 71
        }
      ]
    },
    {
      "cell_type": "code",
      "source": [
        "dataset_train.shape"
      ],
      "metadata": {
        "colab": {
          "base_uri": "https://localhost:8080/"
        },
        "id": "mRG_60pYVG70",
        "outputId": "141755c3-e3ec-47ed-9224-e63a39ad8ca4"
      },
      "execution_count": 72,
      "outputs": [
        {
          "output_type": "execute_result",
          "data": {
            "text/plain": [
              "(1509, 6)"
            ]
          },
          "metadata": {},
          "execution_count": 72
        }
      ]
    },
    {
      "cell_type": "code",
      "source": [
        "dataset_train.size"
      ],
      "metadata": {
        "colab": {
          "base_uri": "https://localhost:8080/"
        },
        "id": "QEv0EBsSVPVf",
        "outputId": "7001505e-7f8b-406c-b20b-0ebeb3704002"
      },
      "execution_count": 73,
      "outputs": [
        {
          "output_type": "execute_result",
          "data": {
            "text/plain": [
              "9054"
            ]
          },
          "metadata": {},
          "execution_count": 73
        }
      ]
    },
    {
      "cell_type": "code",
      "source": [
        "#keras only takes numpy array\n",
        "training_set = dataset_train.iloc[:, 1: 2].values\n",
        "training_set\n",
        "  #open wala column\n"
      ],
      "metadata": {
        "colab": {
          "base_uri": "https://localhost:8080/"
        },
        "id": "wjeCUzWJVQeX",
        "outputId": "614102b8-5acb-4d80-f0e1-4ac67e27053d"
      },
      "execution_count": 74,
      "outputs": [
        {
          "output_type": "execute_result",
          "data": {
            "text/plain": [
              "array([[ 325.25    ],\n",
              "       [ 331.27    ],\n",
              "       [ 329.83    ],\n",
              "       ...,\n",
              "       [1057.390015],\n",
              "       [1051.599976],\n",
              "       [1046.719971]])"
            ]
          },
          "metadata": {},
          "execution_count": 74
        }
      ]
    },
    {
      "cell_type": "code",
      "source": [
        "training_set.shape"
      ],
      "metadata": {
        "colab": {
          "base_uri": "https://localhost:8080/"
        },
        "id": "HIgvmwk4Vb54",
        "outputId": "672822e8-0467-4312-b804-6696cbdcb659"
      },
      "execution_count": 75,
      "outputs": [
        {
          "output_type": "execute_result",
          "data": {
            "text/plain": [
              "(1509, 1)"
            ]
          },
          "metadata": {},
          "execution_count": 75
        }
      ]
    },
    {
      "cell_type": "code",
      "source": [
        "from sklearn.preprocessing import MinMaxScaler\n",
        "sc = MinMaxScaler(feature_range = (0, 1))\n",
        "#fit: get min/max of train data\n",
        "training_set_scaled = sc.fit_transform(training_set)\n",
        "training_set_scaled"
      ],
      "metadata": {
        "colab": {
          "base_uri": "https://localhost:8080/"
        },
        "id": "TbbQHidHVksy",
        "outputId": "5241ddc4-fadc-4901-b1fd-96a9fd964fe7"
      },
      "execution_count": 76,
      "outputs": [
        {
          "output_type": "execute_result",
          "data": {
            "text/plain": [
              "array([[0.05794644],\n",
              "       [0.0655085 ],\n",
              "       [0.06369963],\n",
              "       ...,\n",
              "       [0.97762796],\n",
              "       [0.97035477],\n",
              "       [0.96422472]])"
            ]
          },
          "metadata": {},
          "execution_count": 76
        }
      ]
    },
    {
      "cell_type": "code",
      "source": [
        "## 60 timesteps and 1 output\n",
        "X_train = []\n",
        "y_train = []\n",
        "for i in range(60, len(training_set_scaled)):\n",
        "    X_train.append(training_set_scaled[i-60: i, 0])\n",
        "    y_train.append(training_set_scaled[i, 0])\n",
        "\n",
        "X_train, y_train = np.array(X_train), np.array(y_train)"
      ],
      "metadata": {
        "id": "UrADwGyLVrc_"
      },
      "execution_count": 77,
      "outputs": []
    },
    {
      "cell_type": "code",
      "source": [
        "X_train.shape"
      ],
      "metadata": {
        "colab": {
          "base_uri": "https://localhost:8080/"
        },
        "id": "SnGTKYM8Zlxv",
        "outputId": "eecc5370-b837-44d5-fd07-2c09bff9c2aa"
      },
      "execution_count": 78,
      "outputs": [
        {
          "output_type": "execute_result",
          "data": {
            "text/plain": [
              "(1449, 60)"
            ]
          },
          "metadata": {},
          "execution_count": 78
        }
      ]
    },
    {
      "cell_type": "code",
      "source": [
        "y_train.shape"
      ],
      "metadata": {
        "colab": {
          "base_uri": "https://localhost:8080/"
        },
        "id": "53fMcTkxZpHR",
        "outputId": "18eb8acf-502a-4148-f782-5047ab8c03de"
      },
      "execution_count": 79,
      "outputs": [
        {
          "output_type": "execute_result",
          "data": {
            "text/plain": [
              "(1449,)"
            ]
          },
          "metadata": {},
          "execution_count": 79
        }
      ]
    },
    {
      "cell_type": "code",
      "source": [
        "X_train = np.reshape(X_train, newshape = (X_train.shape[0], X_train.shape[1], 1))"
      ],
      "metadata": {
        "id": "taFwoShRZr5P"
      },
      "execution_count": 80,
      "outputs": []
    },
    {
      "cell_type": "code",
      "source": [
        "X_train.shape"
      ],
      "metadata": {
        "colab": {
          "base_uri": "https://localhost:8080/"
        },
        "id": "WjXkuAyHaY98",
        "outputId": "58bc99ae-f2c1-413f-e285-aaf7100b27a4"
      },
      "execution_count": 81,
      "outputs": [
        {
          "output_type": "execute_result",
          "data": {
            "text/plain": [
              "(1449, 60, 1)"
            ]
          },
          "metadata": {},
          "execution_count": 81
        }
      ]
    },
    {
      "cell_type": "code",
      "source": [
        "# plt.figure(figsize=(18, 8))\n",
        "plt.plot(dataset_train['Open'])\n",
        "plt.title(\"Google Stock Open Prices\")\n",
        "plt.xlabel(\"Time (oldest -> latest)\")\n",
        "plt.ylabel(\"Stock Open Price\")\n",
        "plt.show()"
      ],
      "metadata": {
        "colab": {
          "base_uri": "https://localhost:8080/",
          "height": 472
        },
        "id": "bIqn-vpkaaTM",
        "outputId": "b086fb8a-3962-40d0-d4e8-54197fc14b7c"
      },
      "execution_count": 82,
      "outputs": [
        {
          "output_type": "display_data",
          "data": {
            "text/plain": [
              "<Figure size 640x480 with 1 Axes>"
            ],
            "image/png": "[encoded data removed]"
          },
          "metadata": {}
        }
      ]
    },
    {
      "cell_type": "code",
      "source": [
        "plt.plot(dataset_train['Low'])\n",
        "plt.title(\"Google Stock Low Prices\")\n",
        "plt.xlabel(\"Time (oldest -> latest)\")\n",
        "plt.ylabel(\"Stock Lowest Price\")\n",
        "plt.show()\n"
      ],
      "metadata": {
        "colab": {
          "base_uri": "https://localhost:8080/",
          "height": 472
        },
        "id": "wUTuz1SOaeza",
        "outputId": "b4bef1ce-aea6-49c6-9408-c0a95c493d08"
      },
      "execution_count": 83,
      "outputs": [
        {
          "output_type": "display_data",
          "data": {
            "text/plain": [
              "<Figure size 640x480 with 1 Axes>"
            ],
            "image/png": "[encoded data removed]"
          },
          "metadata": {}
        }
      ]
    },
    {
      "cell_type": "code",
      "source": [
        "from tensorflow.keras.models import Sequential\n",
        "from tensorflow.keras.layers import LSTM\n",
        "from tensorflow.keras.layers import Dense\n",
        "from tensorflow.keras.layers import Dropout"
      ],
      "metadata": {
        "id": "9nG-wqkEauZv"
      },
      "execution_count": 84,
      "outputs": []
    },
    {
      "cell_type": "code",
      "source": [
        "regressor = Sequential()\n",
        "#add 1st lstm layer\n",
        "regressor.add(LSTM(units = 50, return_sequences = True, input_shape = (X_train.shape[1], 1)))\n",
        "regressor.add(Dropout(rate = 0.2))\n",
        "\n",
        "##add 2nd lstm layer: 50 neurons\n",
        "regressor.add(LSTM(units = 50, return_sequences = True))\n",
        "regressor.add(Dropout(rate = 0.2))\n",
        "\n",
        "##add 3rd lstm layer\n",
        "regressor.add(LSTM(units = 50, return_sequences = True))\n",
        "regressor.add(Dropout(rate = 0.2))\n",
        "\n",
        "##add 4th lstm layer\n",
        "regressor.add(LSTM(units = 50, return_sequences = False))\n",
        "regressor.add(Dropout(rate = 0.2))\n",
        "\n",
        "##add output layer\n",
        "regressor.add(Dense(units = 1))"
      ],
      "metadata": {
        "id": "1hNVF4Vua7U0"
      },
      "execution_count": 85,
      "outputs": []
    },
    {
      "cell_type": "code",
      "source": [
        "regressor.compile(optimizer = 'adam', loss = 'mean_squared_error')"
      ],
      "metadata": {
        "id": "st69k9lMb2kw"
      },
      "execution_count": 86,
      "outputs": []
    },
    {
      "cell_type": "code",
      "source": [
        "regressor.fit(x = X_train, y = y_train, batch_size = 32, epochs = 100)"
      ],
      "metadata": {
        "colab": {
          "base_uri": "https://localhost:8080/"
        },
        "id": "c9arxegbb7N4",
        "outputId": "db2c019c-a6b3-45a3-fc96-b29d41dee52e"
      },
      "execution_count": 87,
      "outputs": [
        {
          "output_type": "stream",
          "name": "stdout",
          "text": [
            "Epoch 1/100\n",
            "46/46 [==============================] - 14s 119ms/step - loss: 0.0277\n",
            "Epoch 2/100\n",
            "46/46 [==============================] - 6s 134ms/step - loss: 0.0041\n",
            "Epoch 3/100\n",
            "46/46 [==============================] - 5s 112ms/step - loss: 0.0035\n",
            "Epoch 4/100\n",
            "46/46 [==============================] - 6s 138ms/step - loss: 0.0032\n",
            "Epoch 5/100\n",
            "46/46 [==============================] - 5s 110ms/step - loss: 0.0032\n",
            "Epoch 6/100\n",
            "46/46 [==============================] - 6s 140ms/step - loss: 0.0031\n",
            "Epoch 7/100\n",
            "46/46 [==============================] - 6s 140ms/step - loss: 0.0027\n",
            "Epoch 8/100\n",
            "46/46 [==============================] - 7s 144ms/step - loss: 0.0034\n",
            "Epoch 9/100\n",
            "46/46 [==============================] - 5s 111ms/step - loss: 0.0028\n",
            "Epoch 10/100\n",
            "46/46 [==============================] - 6s 138ms/step - loss: 0.0025\n",
            "Epoch 11/100\n",
            "46/46 [==============================] - 7s 145ms/step - loss: 0.0028\n",
            "Epoch 12/100\n",
            "46/46 [==============================] - 6s 131ms/step - loss: 0.0023\n",
            "Epoch 13/100\n",
            "46/46 [==============================] - 6s 121ms/step - loss: 0.0024\n",
            "Epoch 14/100\n",
            "46/46 [==============================] - 5s 113ms/step - loss: 0.0023\n",
            "Epoch 15/100\n",
            "46/46 [==============================] - 6s 136ms/step - loss: 0.0023\n",
            "Epoch 16/100\n",
            "46/46 [==============================] - 5s 109ms/step - loss: 0.0027\n",
            "Epoch 17/100\n",
            "46/46 [==============================] - 6s 135ms/step - loss: 0.0028\n",
            "Epoch 18/100\n",
            "46/46 [==============================] - 5s 115ms/step - loss: 0.0021\n",
            "Epoch 19/100\n",
            "46/46 [==============================] - 6s 137ms/step - loss: 0.0023\n",
            "Epoch 20/100\n",
            "46/46 [==============================] - 5s 112ms/step - loss: 0.0024\n",
            "Epoch 21/100\n",
            "46/46 [==============================] - 6s 129ms/step - loss: 0.0021\n",
            "Epoch 22/100\n",
            "46/46 [==============================] - 6s 120ms/step - loss: 0.0021\n",
            "Epoch 23/100\n",
            "46/46 [==============================] - 5s 111ms/step - loss: 0.0022\n",
            "Epoch 24/100\n",
            "46/46 [==============================] - 6s 142ms/step - loss: 0.0020\n",
            "Epoch 25/100\n",
            "46/46 [==============================] - 5s 119ms/step - loss: 0.0020\n",
            "Epoch 26/100\n",
            "46/46 [==============================] - 6s 140ms/step - loss: 0.0018\n",
            "Epoch 27/100\n",
            "46/46 [==============================] - 5s 115ms/step - loss: 0.0019\n",
            "Epoch 28/100\n",
            "46/46 [==============================] - 6s 140ms/step - loss: 0.0019\n",
            "Epoch 29/100\n",
            "46/46 [==============================] - 5s 114ms/step - loss: 0.0017\n",
            "Epoch 30/100\n",
            "46/46 [==============================] - 6s 136ms/step - loss: 0.0018\n",
            "Epoch 31/100\n",
            "46/46 [==============================] - 5s 116ms/step - loss: 0.0020\n",
            "Epoch 32/100\n",
            "46/46 [==============================] - 6s 131ms/step - loss: 0.0021\n",
            "Epoch 33/100\n",
            "46/46 [==============================] - 6s 123ms/step - loss: 0.0017\n",
            "Epoch 34/100\n",
            "46/46 [==============================] - 5s 110ms/step - loss: 0.0017\n",
            "Epoch 35/100\n",
            "46/46 [==============================] - 6s 134ms/step - loss: 0.0017\n",
            "Epoch 36/100\n",
            "46/46 [==============================] - 5s 113ms/step - loss: 0.0018\n",
            "Epoch 37/100\n",
            "46/46 [==============================] - 6s 134ms/step - loss: 0.0017\n",
            "Epoch 38/100\n",
            "46/46 [==============================] - 5s 110ms/step - loss: 0.0018\n",
            "Epoch 39/100\n",
            "46/46 [==============================] - 6s 141ms/step - loss: 0.0018\n",
            "Epoch 40/100\n",
            "46/46 [==============================] - 6s 133ms/step - loss: 0.0017\n",
            "Epoch 41/100\n",
            "46/46 [==============================] - 6s 139ms/step - loss: 0.0016\n",
            "Epoch 42/100\n",
            "46/46 [==============================] - 5s 114ms/step - loss: 0.0016\n",
            "Epoch 43/100\n",
            "46/46 [==============================] - 5s 114ms/step - loss: 0.0014\n",
            "Epoch 44/100\n",
            "46/46 [==============================] - 7s 160ms/step - loss: 0.0015\n",
            "Epoch 45/100\n",
            "46/46 [==============================] - 5s 110ms/step - loss: 0.0014\n",
            "Epoch 46/100\n",
            "46/46 [==============================] - 6s 133ms/step - loss: 0.0015\n",
            "Epoch 47/100\n",
            "46/46 [==============================] - 5s 111ms/step - loss: 0.0016\n",
            "Epoch 48/100\n",
            "46/46 [==============================] - 6s 136ms/step - loss: 0.0014\n",
            "Epoch 49/100\n",
            "46/46 [==============================] - 5s 111ms/step - loss: 0.0015\n",
            "Epoch 50/100\n",
            "46/46 [==============================] - 6s 134ms/step - loss: 0.0014\n",
            "Epoch 51/100\n",
            "46/46 [==============================] - 5s 118ms/step - loss: 0.0013\n",
            "Epoch 52/100\n",
            "46/46 [==============================] - 5s 114ms/step - loss: 0.0014\n",
            "Epoch 53/100\n",
            "46/46 [==============================] - 6s 133ms/step - loss: 0.0013\n",
            "Epoch 54/100\n",
            "46/46 [==============================] - 5s 111ms/step - loss: 0.0012\n",
            "Epoch 55/100\n",
            "46/46 [==============================] - 6s 135ms/step - loss: 0.0014\n",
            "Epoch 56/100\n",
            "46/46 [==============================] - 5s 110ms/step - loss: 0.0012\n",
            "Epoch 57/100\n",
            "46/46 [==============================] - 6s 134ms/step - loss: 0.0014\n",
            "Epoch 58/100\n",
            "46/46 [==============================] - 5s 110ms/step - loss: 0.0015\n",
            "Epoch 59/100\n",
            "46/46 [==============================] - 5s 119ms/step - loss: 0.0013\n",
            "Epoch 60/100\n",
            "46/46 [==============================] - 6s 130ms/step - loss: 0.0012\n",
            "Epoch 61/100\n",
            "46/46 [==============================] - 5s 113ms/step - loss: 0.0013\n",
            "Epoch 62/100\n",
            "46/46 [==============================] - 6s 138ms/step - loss: 0.0012\n",
            "Epoch 63/100\n",
            "46/46 [==============================] - 5s 112ms/step - loss: 0.0012\n",
            "Epoch 64/100\n",
            "46/46 [==============================] - 6s 139ms/step - loss: 0.0013\n",
            "Epoch 65/100\n",
            "46/46 [==============================] - 5s 114ms/step - loss: 0.0012\n",
            "Epoch 66/100\n",
            "46/46 [==============================] - 6s 137ms/step - loss: 0.0011\n",
            "Epoch 67/100\n",
            "46/46 [==============================] - 5s 110ms/step - loss: 0.0014\n",
            "Epoch 68/100\n",
            "46/46 [==============================] - 6s 123ms/step - loss: 0.0012\n",
            "Epoch 69/100\n",
            "46/46 [==============================] - 6s 122ms/step - loss: 0.0013\n",
            "Epoch 70/100\n",
            "46/46 [==============================] - 5s 112ms/step - loss: 0.0013\n",
            "Epoch 71/100\n",
            "46/46 [==============================] - 6s 138ms/step - loss: 0.0011\n",
            "Epoch 72/100\n",
            "46/46 [==============================] - 5s 112ms/step - loss: 0.0015\n",
            "Epoch 73/100\n",
            "46/46 [==============================] - 8s 166ms/step - loss: 0.0012\n",
            "Epoch 74/100\n",
            "46/46 [==============================] - 5s 114ms/step - loss: 0.0011\n",
            "Epoch 75/100\n",
            "46/46 [==============================] - 6s 139ms/step - loss: 9.8625e-04\n",
            "Epoch 76/100\n",
            "46/46 [==============================] - 5s 114ms/step - loss: 9.5877e-04\n",
            "Epoch 77/100\n",
            "46/46 [==============================] - 7s 142ms/step - loss: 0.0010\n",
            "Epoch 78/100\n",
            "46/46 [==============================] - 6s 130ms/step - loss: 0.0013\n",
            "Epoch 79/100\n",
            "46/46 [==============================] - 5s 115ms/step - loss: 0.0011\n",
            "Epoch 80/100\n",
            "46/46 [==============================] - 6s 138ms/step - loss: 0.0011\n",
            "Epoch 81/100\n",
            "46/46 [==============================] - 5s 114ms/step - loss: 0.0011\n",
            "Epoch 82/100\n",
            "46/46 [==============================] - 6s 138ms/step - loss: 0.0012\n",
            "Epoch 83/100\n",
            "46/46 [==============================] - 5s 115ms/step - loss: 9.7454e-04\n",
            "Epoch 84/100\n",
            "46/46 [==============================] - 6s 139ms/step - loss: 0.0010\n",
            "Epoch 85/100\n",
            "46/46 [==============================] - 5s 111ms/step - loss: 0.0011\n",
            "Epoch 86/100\n",
            "46/46 [==============================] - 6s 127ms/step - loss: 0.0010\n",
            "Epoch 87/100\n",
            "46/46 [==============================] - 6s 124ms/step - loss: 0.0010\n",
            "Epoch 88/100\n",
            "46/46 [==============================] - 5s 113ms/step - loss: 0.0010\n",
            "Epoch 89/100\n",
            "46/46 [==============================] - 6s 134ms/step - loss: 9.3519e-04\n",
            "Epoch 90/100\n",
            "46/46 [==============================] - 5s 110ms/step - loss: 0.0010\n",
            "Epoch 91/100\n",
            "46/46 [==============================] - 6s 134ms/step - loss: 9.5438e-04\n",
            "Epoch 92/100\n",
            "46/46 [==============================] - 5s 112ms/step - loss: 9.4124e-04\n",
            "Epoch 93/100\n",
            "46/46 [==============================] - 6s 133ms/step - loss: 9.6750e-04\n",
            "Epoch 94/100\n",
            "46/46 [==============================] - 5s 113ms/step - loss: 9.4043e-04\n",
            "Epoch 95/100\n",
            "46/46 [==============================] - 5s 117ms/step - loss: 9.5828e-04\n",
            "Epoch 96/100\n",
            "46/46 [==============================] - 6s 134ms/step - loss: 9.4268e-04\n",
            "Epoch 97/100\n",
            "46/46 [==============================] - 5s 113ms/step - loss: 9.4948e-04\n",
            "Epoch 98/100\n",
            "46/46 [==============================] - 6s 136ms/step - loss: 0.0010\n",
            "Epoch 99/100\n",
            "46/46 [==============================] - 5s 110ms/step - loss: 9.4711e-04\n",
            "Epoch 100/100\n",
            "46/46 [==============================] - 6s 134ms/step - loss: 9.4285e-04\n"
          ]
        },
        {
          "output_type": "execute_result",
          "data": {
            "text/plain": [
              "<keras.src.callbacks.History at 0x7bbe8b27a050>"
            ]
          },
          "metadata": {},
          "execution_count": 87
        }
      ]
    },
    {
      "cell_type": "code",
      "source": [
        "dataset_test = pd.read_csv('Google_Stock_Price_Test.csv')"
      ],
      "metadata": {
        "id": "HhaQRVRDb_MC"
      },
      "execution_count": 88,
      "outputs": []
    },
    {
      "cell_type": "code",
      "source": [
        "dataset_test.head()"
      ],
      "metadata": {
        "colab": {
          "base_uri": "https://localhost:8080/",
          "height": 206
        },
        "id": "hf2kKE4tcFOQ",
        "outputId": "ee5f3446-ddb3-44fe-ec17-47833aaacac2"
      },
      "execution_count": 89,
      "outputs": [
        {
          "output_type": "execute_result",
          "data": {
            "text/plain": [
              "         Date         Open         High          Low        Close   Volume\n",
              "0  02/01/2018  1048.339966  1066.939941  1045.229980  1065.000000  1237600\n",
              "1  03/01/2018  1064.310059  1086.290039  1063.209961  1082.479980  1430200\n",
              "2  04/01/2018  1088.000000  1093.569946  1084.001953  1086.400024  1004600\n",
              "3  05/01/2018  1094.000000  1104.250000  1092.000000  1102.229980  1279100\n",
              "4  08/01/2018  1102.229980  1111.270020  1101.619995  1106.939941  1047600"
            ],
            "text/html": [
              "\n",
              "  <div id=\"df-776e34af-cc82-4ca3-a607-d145670d04dd\" class=\"colab-df-container\">\n",
              "    <div>\n",
              "<style scoped>\n",
              "    .dataframe tbody tr th:only-of-type {\n",
              "        vertical-align: middle;\n",
              "    }\n",
              "\n",
              "    .dataframe tbody tr th {\n",
              "        vertical-align: top;\n",
              "    }\n",
              "\n",
              "    .dataframe thead th {\n",
              "        text-align: right;\n",
              "    }\n",
              "</style>\n",
              "<table border=\"1\" class=\"dataframe\">\n",
              "  <thead>\n",
              "    <tr style=\"text-align: right;\">\n",
              "      <th></th>\n",
              "      <th>Date</th>\n",
              "      <th>Open</th>\n",
              "      <th>High</th>\n",
              "      <th>Low</th>\n",
              "      <th>Close</th>\n",
              "      <th>Volume</th>\n",
              "    </tr>\n",
              "  </thead>\n",
              "  <tbody>\n",
              "    <tr>\n",
              "      <th>0</th>\n",
              "      <td>02/01/2018</td>\n",
              "      <td>1048.339966</td>\n",
              "      <td>1066.939941</td>\n",
              "      <td>1045.229980</td>\n",
              "      <td>1065.000000</td>\n",
              "      <td>1237600</td>\n",
              "    </tr>\n",
              "    <tr>\n",
              "      <th>1</th>\n",
              "      <td>03/01/2018</td>\n",
              "      <td>1064.310059</td>\n",
              "      <td>1086.290039</td>\n",
              "      <td>1063.209961</td>\n",
              "      <td>1082.479980</td>\n",
              "      <td>1430200</td>\n",
              "    </tr>\n",
              "    <tr>\n",
              "      <th>2</th>\n",
              "      <td>04/01/2018</td>\n",
              "      <td>1088.000000</td>\n",
              "      <td>1093.569946</td>\n",
              "      <td>1084.001953</td>\n",
              "      <td>1086.400024</td>\n",
              "      <td>1004600</td>\n",
              "    </tr>\n",
              "    <tr>\n",
              "      <th>3</th>\n",
              "      <td>05/01/2018</td>\n",
              "      <td>1094.000000</td>\n",
              "      <td>1104.250000</td>\n",
              "      <td>1092.000000</td>\n",
              "      <td>1102.229980</td>\n",
              "      <td>1279100</td>\n",
              "    </tr>\n",
              "    <tr>\n",
              "      <th>4</th>\n",
              "      <td>08/01/2018</td>\n",
              "      <td>1102.229980</td>\n",
              "      <td>1111.270020</td>\n",
              "      <td>1101.619995</td>\n",
              "      <td>1106.939941</td>\n",
              "      <td>1047600</td>\n",
              "    </tr>\n",
              "  </tbody>\n",
              "</table>\n",
              "</div>\n",
              "    <div class=\"colab-df-buttons\">\n",
              "\n",
              "  <div class=\"colab-df-container\">\n",
              "    <button class=\"colab-df-convert\" onclick=\"convertToInteractive('df-776e34af-cc82-4ca3-a607-d145670d04dd')\"\n",
              "            title=\"Convert this dataframe to an interactive table.\"\n",
              "            style=\"display:none;\">\n",
              "\n",
              "  <svg xmlns=\"http://www.w3.org/2000/svg\" height=\"24px\" viewBox=\"0 -960 960 960\">\n",
              "    <path d=\"M120-120v-720h720v720H120Zm60-500h600v-160H180v160Zm220 220h160v-160H400v160Zm0 220h160v-160H400v160ZM180-400h160v-160H180v160Zm440 0h160v-160H620v160ZM180-180h160v-160H180v160Zm440 0h160v-160H620v160Z\"/>\n",
              "  </svg>\n",
              "    </button>\n",
              "\n",
              "  <style>\n",
              "    .colab-df-container {\n",
              "      display:flex;\n",
              "      gap: 12px;\n",
              "    }\n",
              "\n",
              "    .colab-df-convert {\n",
              "      background-color: #E8F0FE;\n",
              "      border: none;\n",
              "      border-radius: 50%;\n",
              "      cursor: pointer;\n",
              "      display: none;\n",
              "      fill: #1967D2;\n",
              "      height: 32px;\n",
              "      padding: 0 0 0 0;\n",
              "      width: 32px;\n",
              "    }\n",
              "\n",
              "    .colab-df-convert:hover {\n",
              "      background-color: #E2EBFA;\n",
              "      box-shadow: 0px 1px 2px rgba(60, 64, 67, 0.3), 0px 1px 3px 1px rgba(60, 64, 67, 0.15);\n",
              "      fill: #174EA6;\n",
              "    }\n",
              "\n",
              "    .colab-df-buttons div {\n",
              "      margin-bottom: 4px;\n",
              "    }\n",
              "\n",
              "    [theme=dark] .colab-df-convert {\n",
              "      background-color: #3B4455;\n",
              "      fill: #D2E3FC;\n",
              "    }\n",
              "\n",
              "    [theme=dark] .colab-df-convert:hover {\n",
              "      background-color: #434B5C;\n",
              "      box-shadow: 0px 1px 3px 1px rgba(0, 0, 0, 0.15);\n",
              "      filter: drop-shadow(0px 1px 2px rgba(0, 0, 0, 0.3));\n",
              "      fill: #FFFFFF;\n",
              "    }\n",
              "  </style>\n",
              "\n",
              "    <script>\n",
              "      const buttonEl =\n",
              "        document.querySelector('#df-776e34af-cc82-4ca3-a607-d145670d04dd button.colab-df-convert');\n",
              "      buttonEl.style.display =\n",
              "        google.colab.kernel.accessAllowed ? 'block' : 'none';\n",
              "\n",
              "      async function convertToInteractive(key) {\n",
              "        const element = document.querySelector('#df-776e34af-cc82-4ca3-a607-d145670d04dd');\n",
              "        const dataTable =\n",
              "          await google.colab.kernel.invokeFunction('convertToInteractive',\n",
              "                                                    [key], {});\n",
              "        if (!dataTable) return;\n",
              "\n",
              "        const docLinkHtml = 'Like what you see? Visit the ' +\n",
              "          '<a target=\"_blank\" href=https://colab.research.google.com/notebooks/data_table.ipynb>data table notebook</a>'\n",
              "          + ' to learn more about interactive tables.';\n",
              "        element.innerHTML = '';\n",
              "        dataTable['output_type'] = 'display_data';\n",
              "        await google.colab.output.renderOutput(dataTable, element);\n",
              "        const docLink = document.createElement('div');\n",
              "        docLink.innerHTML = docLinkHtml;\n",
              "        element.appendChild(docLink);\n",
              "      }\n",
              "    </script>\n",
              "  </div>\n",
              "\n",
              "\n",
              "<div id=\"df-bbb6ace5-49cb-4de8-b680-aecf19f0c02d\">\n",
              "  <button class=\"colab-df-quickchart\" onclick=\"quickchart('df-bbb6ace5-49cb-4de8-b680-aecf19f0c02d')\"\n",
              "            title=\"Suggest charts\"\n",
              "            style=\"display:none;\">\n",
              "\n",
              "<svg xmlns=\"http://www.w3.org/2000/svg\" height=\"24px\"viewBox=\"0 0 24 24\"\n",
              "     width=\"24px\">\n",
              "    <g>\n",
              "        <path d=\"M19 3H5c-1.1 0-2 .9-2 2v14c0 1.1.9 2 2 2h14c1.1 0 2-.9 2-2V5c0-1.1-.9-2-2-2zM9 17H7v-7h2v7zm4 0h-2V7h2v10zm4 0h-2v-4h2v4z\"/>\n",
              "    </g>\n",
              "</svg>\n",
              "  </button>\n",
              "\n",
              "<style>\n",
              "  .colab-df-quickchart {\n",
              "      --bg-color: #E8F0FE;\n",
              "      --fill-color: #1967D2;\n",
              "      --hover-bg-color: #E2EBFA;\n",
              "      --hover-fill-color: #174EA6;\n",
              "      --disabled-fill-color: #AAA;\n",
              "      --disabled-bg-color: #DDD;\n",
              "  }\n",
              "\n",
              "  [theme=dark] .colab-df-quickchart {\n",
              "      --bg-color: #3B4455;\n",
              "      --fill-color: #D2E3FC;\n",
              "      --hover-bg-color: #434B5C;\n",
              "      --hover-fill-color: #FFFFFF;\n",
              "      --disabled-bg-color: #3B4455;\n",
              "      --disabled-fill-color: #666;\n",
              "  }\n",
              "\n",
              "  .colab-df-quickchart {\n",
              "    background-color: var(--bg-color);\n",
              "    border: none;\n",
              "    border-radius: 50%;\n",
              "    cursor: pointer;\n",
              "    display: none;\n",
              "    fill: var(--fill-color);\n",
              "    height: 32px;\n",
              "    padding: 0;\n",
              "    width: 32px;\n",
              "  }\n",
              "\n",
              "  .colab-df-quickchart:hover {\n",
              "    background-color: var(--hover-bg-color);\n",
              "    box-shadow: 0 1px 2px rgba(60, 64, 67, 0.3), 0 1px 3px 1px rgba(60, 64, 67, 0.15);\n",
              "    fill: var(--button-hover-fill-color);\n",
              "  }\n",
              "\n",
              "  .colab-df-quickchart-complete:disabled,\n",
              "  .colab-df-quickchart-complete:disabled:hover {\n",
              "    background-color: var(--disabled-bg-color);\n",
              "    fill: var(--disabled-fill-color);\n",
              "    box-shadow: none;\n",
              "  }\n",
              "\n",
              "  .colab-df-spinner {\n",
              "    border: 2px solid var(--fill-color);\n",
              "    border-color: transparent;\n",
              "    border-bottom-color: var(--fill-color);\n",
              "    animation:\n",
              "      spin 1s steps(1) infinite;\n",
              "  }\n",
              "\n",
              "  @keyframes spin {\n",
              "    0% {\n",
              "      border-color: transparent;\n",
              "      border-bottom-color: var(--fill-color);\n",
              "      border-left-color: var(--fill-color);\n",
              "    }\n",
              "    20% {\n",
              "      border-color: transparent;\n",
              "      border-left-color: var(--fill-color);\n",
              "      border-top-color: var(--fill-color);\n",
              "    }\n",
              "    30% {\n",
              "      border-color: transparent;\n",
              "      border-left-color: var(--fill-color);\n",
              "      border-top-color: var(--fill-color);\n",
              "      border-right-color: var(--fill-color);\n",
              "    }\n",
              "    40% {\n",
              "      border-color: transparent;\n",
              "      border-right-color: var(--fill-color);\n",
              "      border-top-color: var(--fill-color);\n",
              "    }\n",
              "    60% {\n",
              "      border-color: transparent;\n",
              "      border-right-color: var(--fill-color);\n",
              "    }\n",
              "    80% {\n",
              "      border-color: transparent;\n",
              "      border-right-color: var(--fill-color);\n",
              "      border-bottom-color: var(--fill-color);\n",
              "    }\n",
              "    90% {\n",
              "      border-color: transparent;\n",
              "      border-bottom-color: var(--fill-color);\n",
              "    }\n",
              "  }\n",
              "</style>\n",
              "\n",
              "  <script>\n",
              "    async function quickchart(key) {\n",
              "      const quickchartButtonEl =\n",
              "        document.querySelector('#' + key + ' button');\n",
              "      quickchartButtonEl.disabled = true;  // To prevent multiple clicks.\n",
              "      quickchartButtonEl.classList.add('colab-df-spinner');\n",
              "      try {\n",
              "        const charts = await google.colab.kernel.invokeFunction(\n",
              "            'suggestCharts', [key], {});\n",
              "      } catch (error) {\n",
              "        console.error('Error during call to suggestCharts:', error);\n",
              "      }\n",
              "      quickchartButtonEl.classList.remove('colab-df-spinner');\n",
              "      quickchartButtonEl.classList.add('colab-df-quickchart-complete');\n",
              "    }\n",
              "    (() => {\n",
              "      let quickchartButtonEl =\n",
              "        document.querySelector('#df-bbb6ace5-49cb-4de8-b680-aecf19f0c02d button');\n",
              "      quickchartButtonEl.style.display =\n",
              "        google.colab.kernel.accessAllowed ? 'block' : 'none';\n",
              "    })();\n",
              "  </script>\n",
              "</div>\n",
              "\n",
              "    </div>\n",
              "  </div>\n"
            ],
            "application/vnd.google.colaboratory.intrinsic+json": {
              "type": "dataframe",
              "variable_name": "dataset_test",
              "summary": "{\n  \"name\": \"dataset_test\",\n  \"rows\": 125,\n  \"fields\": [\n    {\n      \"column\": \"Date\",\n      \"properties\": {\n        \"dtype\": \"string\",\n        \"num_unique_values\": 125,\n        \"samples\": [\n          \"29/01/2018\",\n          \"05/03/2018\",\n          \"23/02/2018\"\n        ],\n        \"semantic_type\": \"\",\n        \"description\": \"\"\n      }\n    },\n    {\n      \"column\": \"Open\",\n      \"properties\": {\n        \"dtype\": \"number\",\n        \"std\": 47.79342863860253,\n        \"min\": 993.409973,\n        \"max\": 1177.329956,\n        \"num_unique_values\": 124,\n        \"samples\": [\n          1176.47998,\n          1075.140015,\n          1112.640015\n        ],\n        \"semantic_type\": \"\",\n        \"description\": \"\"\n      }\n    },\n    {\n      \"column\": \"High\",\n      \"properties\": {\n        \"dtype\": \"number\",\n        \"std\": 45.2207280418645,\n        \"min\": 1020.98999,\n        \"max\": 1186.890015,\n        \"num_unique_values\": 125,\n        \"samples\": [\n          1186.890015,\n          1097.099976,\n          1127.280029\n        ],\n        \"semantic_type\": \"\",\n        \"description\": \"\"\n      }\n    },\n    {\n      \"column\": \"Low\",\n      \"properties\": {\n        \"dtype\": \"number\",\n        \"std\": 49.907919085837946,\n        \"min\": 980.640015,\n        \"max\": 1171.97998,\n        \"num_unique_values\": 124,\n        \"samples\": [\n          1171.97998,\n          1069.0,\n          1104.713989\n        ],\n        \"semantic_type\": \"\",\n        \"description\": \"\"\n      }\n    },\n    {\n      \"column\": \"Close\",\n      \"properties\": {\n        \"dtype\": \"number\",\n        \"std\": 48.04455096387223,\n        \"min\": 1001.52002,\n        \"max\": 1175.839966,\n        \"num_unique_values\": 125,\n        \"samples\": [\n          1175.579956,\n          1090.930054,\n          1126.790039\n        ],\n        \"semantic_type\": \"\",\n        \"description\": \"\"\n      }\n    },\n    {\n      \"column\": \"Volume\",\n      \"properties\": {\n        \"dtype\": \"number\",\n        \"std\": 720763,\n        \"min\": 756800,\n        \"max\": 4857900,\n        \"num_unique_values\": 125,\n        \"samples\": [\n          1378900,\n          1202200,\n          1261000\n        ],\n        \"semantic_type\": \"\",\n        \"description\": \"\"\n      }\n    }\n  ]\n}"
            }
          },
          "metadata": {},
          "execution_count": 89
        }
      ]
    },
    {
      "cell_type": "code",
      "source": [
        "#keras only takes numpy array\n",
        "real_stock_price = dataset_test.iloc[:, 1: 2].values\n",
        "real_stock_price.shape"
      ],
      "metadata": {
        "colab": {
          "base_uri": "https://localhost:8080/"
        },
        "id": "k9vStghZcHLO",
        "outputId": "48d696e9-ed72-400f-ffa6-6929733dde19"
      },
      "execution_count": 90,
      "outputs": [
        {
          "output_type": "execute_result",
          "data": {
            "text/plain": [
              "(125, 1)"
            ]
          },
          "metadata": {},
          "execution_count": 90
        }
      ]
    },
    {
      "cell_type": "code",
      "source": [
        "#vertical concat use 0, horizontal uses 1\n",
        "dataset_total = pd.concat((dataset_train['Open'], dataset_test['Open']),\n",
        "                          axis = 0)\n",
        "\n",
        "\n",
        "##use .values to make numpy array\n",
        "inputs = dataset_total[len(dataset_total) - len(dataset_test) - 60:].values"
      ],
      "metadata": {
        "id": "RglCStN4cLzS"
      },
      "execution_count": 91,
      "outputs": []
    },
    {
      "cell_type": "code",
      "source": [
        "inputs.shape"
      ],
      "metadata": {
        "colab": {
          "base_uri": "https://localhost:8080/"
        },
        "id": "0BR_T1Rwf7X8",
        "outputId": "12599a12-8d08-4e8a-8fa4-e8e0a0834a93"
      },
      "execution_count": 92,
      "outputs": [
        {
          "output_type": "execute_result",
          "data": {
            "text/plain": [
              "(185,)"
            ]
          },
          "metadata": {},
          "execution_count": 92
        }
      ]
    },
    {
      "cell_type": "code",
      "source": [
        "#reshape data to only have 1 col\n",
        "inputs = inputs.reshape(-1, 1)\n",
        "print(inputs.shape)\n",
        "#scale input\n",
        "inputs = sc.transform(inputs)"
      ],
      "metadata": {
        "colab": {
          "base_uri": "https://localhost:8080/"
        },
        "id": "qNvo8CVDf_LK",
        "outputId": "133dac0f-e26c-4a28-a5de-7eec11b50571"
      },
      "execution_count": 93,
      "outputs": [
        {
          "output_type": "stream",
          "name": "stdout",
          "text": [
            "(185, 1)\n"
          ]
        }
      ]
    },
    {
      "cell_type": "code",
      "source": [],
      "metadata": {
        "id": "uqO5Ats0gyip"
      },
      "execution_count": 93,
      "outputs": []
    },
    {
      "cell_type": "code",
      "source": [
        "X_test = []\n",
        "for i in range(60, len(inputs)):\n",
        "    X_test.append(inputs[i-60:i, 0])\n",
        "X_test = np.array(X_test)\n",
        "X_test.shape"
      ],
      "metadata": {
        "colab": {
          "base_uri": "https://localhost:8080/"
        },
        "id": "Cd1pEq2Tghzw",
        "outputId": "f835fe59-456d-4237-9db9-b93e03d5fc05"
      },
      "execution_count": 94,
      "outputs": [
        {
          "output_type": "execute_result",
          "data": {
            "text/plain": [
              "(125, 60)"
            ]
          },
          "metadata": {},
          "execution_count": 94
        }
      ]
    },
    {
      "cell_type": "code",
      "source": [
        "#add dimension of indicator\n",
        "X_test = np.reshape(X_test, (X_test.shape[0], X_test.shape[1], 1))\n",
        "X_test.shape"
      ],
      "metadata": {
        "colab": {
          "base_uri": "https://localhost:8080/"
        },
        "id": "lwbIy5rThhYA",
        "outputId": "982f247c-7788-47d9-c422-85b3e99e37fe"
      },
      "execution_count": 95,
      "outputs": [
        {
          "output_type": "execute_result",
          "data": {
            "text/plain": [
              "(125, 60, 1)"
            ]
          },
          "metadata": {},
          "execution_count": 95
        }
      ]
    },
    {
      "cell_type": "code",
      "source": [
        "predicted_stock_price = regressor.predict(X_test)\n"
      ],
      "metadata": {
        "colab": {
          "base_uri": "https://localhost:8080/"
        },
        "id": "qF1aqShdhORv",
        "outputId": "ffe1a591-beb3-42bd-efcf-1e78a9e73b65"
      },
      "execution_count": 96,
      "outputs": [
        {
          "output_type": "stream",
          "name": "stdout",
          "text": [
            "4/4 [==============================] - 2s 33ms/step\n"
          ]
        }
      ]
    },
    {
      "cell_type": "code",
      "source": [
        "#inverse the scaled value\n",
        "predicted_stock_price = sc.inverse_transform(predicted_stock_price)"
      ],
      "metadata": {
        "id": "Wy11xsU4hRHW"
      },
      "execution_count": 97,
      "outputs": []
    },
    {
      "cell_type": "code",
      "source": [
        "##visualize the prediction and real price\n",
        "plt.plot(real_stock_price, color = 'red', label = 'Real price')\n",
        "plt.plot(predicted_stock_price, color = 'blue', label = 'Predicted price')\n",
        "\n",
        "plt.title('Google price prediction')\n",
        "plt.xlabel('Time')\n",
        "plt.ylabel('Price')\n",
        "plt.legend()\n",
        "plt.show()"
      ],
      "metadata": {
        "colab": {
          "base_uri": "https://localhost:8080/",
          "height": 472
        },
        "id": "oIqEC5wjhve3",
        "outputId": "cb6d9399-5003-483d-a0c7-0504be626771"
      },
      "execution_count": 98,
      "outputs": [
        {
          "output_type": "display_data",
          "data": {
            "text/plain": [
              "<Figure size 640x480 with 1 Axes>"
            ],
            "image/png": "[encoded data removed]"
          },
          "metadata": {}
        }
      ]
    },
    {
      "cell_type": "code",
      "source": [],
      "metadata": {
        "id": "sAMXfaYnh4QC"
      },
      "execution_count": 98,
      "outputs": []
    }
  ]
}